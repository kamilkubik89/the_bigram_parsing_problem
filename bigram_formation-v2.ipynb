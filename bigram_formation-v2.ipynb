{
 "cells": [
  {
   "cell_type": "code",
   "execution_count": 7,
   "metadata": {},
   "outputs": [
    {
     "name": "stdout",
     "output_type": "stream",
     "text": [
      "The quick brown fox and the quick blue hare\n",
      "('The', 'quick')\n",
      "('quick', 'brown')\n",
      "('brown', 'fox')\n",
      "('fox', 'and')\n",
      "('and', 'the')\n",
      "('the', 'quick')\n",
      "('quick', 'blue')\n",
      "('blue', 'hare')\n"
     ]
    }
   ],
   "source": [
    "import pandas as pd\n",
    "from nltk import ngrams\n",
    "\n",
    "fileObject = open(\"input_text.txt\", \"r\")\n",
    "data = fileObject.read()\n",
    "print(data)\n",
    "\n",
    "n = 2\n",
    "bigrams = ngrams(data.split(), n)\n",
    "\n",
    "for grams in bigrams:\n",
    "  print(grams)"
   ]
  },
  {
   "cell_type": "code",
   "execution_count": 8,
   "metadata": {},
   "outputs": [
    {
     "name": "stdout",
     "output_type": "stream",
     "text": [
      "{'the quick': 2, 'quick brown': 1, 'brown fox': 1, 'fox and': 1, 'and the': 1, 'quick blue': 1, 'blue hare': 1}\n"
     ]
    }
   ],
   "source": [
    "def get_bigrams(word_string):\n",
    "    words = [word.lower().strip(',.') for word in word_string.split(\" \")]\n",
    "    pairs = [\"{} {}\".format(w, words[i+1]) for i, w in enumerate(words) if i < len(words) - 1]\n",
    "    bigrams = {}\n",
    "\n",
    "    for bg in pairs:\n",
    "        if bg not in bigrams:\n",
    "            bigrams[bg] = 0\n",
    "        bigrams[bg] += 1\n",
    "    return bigrams\n",
    "\n",
    "print(get_bigrams(data))"
   ]
  },
  {
   "cell_type": "code",
   "execution_count": null,
   "metadata": {},
   "outputs": [],
   "source": []
  },
  {
   "cell_type": "code",
   "execution_count": null,
   "metadata": {},
   "outputs": [],
   "source": []
  },
  {
   "cell_type": "code",
   "execution_count": null,
   "metadata": {},
   "outputs": [],
   "source": []
  }
 ],
 "metadata": {
  "kernelspec": {
   "display_name": "Python 3",
   "language": "python",
   "name": "python3"
  },
  "language_info": {
   "codemirror_mode": {
    "name": "ipython",
    "version": 3
   },
   "file_extension": ".py",
   "mimetype": "text/x-python",
   "name": "python",
   "nbconvert_exporter": "python",
   "pygments_lexer": "ipython3",
   "version": "3.8.3"
  }
 },
 "nbformat": 4,
 "nbformat_minor": 4
}
